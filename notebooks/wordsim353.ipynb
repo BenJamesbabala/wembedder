{
 "cells": [
  {
   "cell_type": "code",
   "execution_count": 1,
   "metadata": {
    "collapsed": true
   },
   "outputs": [],
   "source": [
    "from everything import *\n",
    "from scipy.stats import spearmanr\n",
    "\n",
    "sys.path.append('..')\n",
    "from wembedder.model import Model"
   ]
  },
  {
   "cell_type": "code",
   "execution_count": 2,
   "metadata": {
    "collapsed": true
   },
   "outputs": [],
   "source": [
    "wordsim = read_csv('../wembedder/data/wordsim353_wikidata.csv', index_col=0)"
   ]
  },
  {
   "cell_type": "code",
   "execution_count": 3,
   "metadata": {
    "collapsed": false
   },
   "outputs": [
    {
     "data": {
      "text/html": [
       "<div>\n",
       "<table border=\"1\" class=\"dataframe\">\n",
       "  <thead>\n",
       "    <tr style=\"text-align: right;\">\n",
       "      <th></th>\n",
       "      <th>word1</th>\n",
       "      <th>word2</th>\n",
       "      <th>human</th>\n",
       "      <th>q1</th>\n",
       "      <th>q2</th>\n",
       "      <th>label1</th>\n",
       "      <th>label2</th>\n",
       "    </tr>\n",
       "  </thead>\n",
       "  <tbody>\n",
       "    <tr>\n",
       "      <th>0</th>\n",
       "      <td>love</td>\n",
       "      <td>sex</td>\n",
       "      <td>6.77</td>\n",
       "      <td>Q316</td>\n",
       "      <td>Q5873</td>\n",
       "      <td>love</td>\n",
       "      <td>sexual intercourse</td>\n",
       "    </tr>\n",
       "    <tr>\n",
       "      <th>1</th>\n",
       "      <td>tiger</td>\n",
       "      <td>cat</td>\n",
       "      <td>7.35</td>\n",
       "      <td>Q19939</td>\n",
       "      <td>Q146</td>\n",
       "      <td>tiger</td>\n",
       "      <td>cat</td>\n",
       "    </tr>\n",
       "    <tr>\n",
       "      <th>2</th>\n",
       "      <td>tiger</td>\n",
       "      <td>tiger</td>\n",
       "      <td>10.00</td>\n",
       "      <td>Q19939</td>\n",
       "      <td>Q19939</td>\n",
       "      <td>tiger</td>\n",
       "      <td>tiger</td>\n",
       "    </tr>\n",
       "    <tr>\n",
       "      <th>3</th>\n",
       "      <td>book</td>\n",
       "      <td>paper</td>\n",
       "      <td>7.46</td>\n",
       "      <td>Q571</td>\n",
       "      <td>Q11472</td>\n",
       "      <td>book</td>\n",
       "      <td>paper</td>\n",
       "    </tr>\n",
       "    <tr>\n",
       "      <th>4</th>\n",
       "      <td>computer</td>\n",
       "      <td>keyboard</td>\n",
       "      <td>7.62</td>\n",
       "      <td>Q68</td>\n",
       "      <td>Q1921606</td>\n",
       "      <td>computer</td>\n",
       "      <td>keyboard</td>\n",
       "    </tr>\n",
       "  </tbody>\n",
       "</table>\n",
       "</div>"
      ],
      "text/plain": [
       "      word1     word2  human      q1        q2    label1              label2\n",
       "0      love       sex   6.77    Q316     Q5873      love  sexual intercourse\n",
       "1     tiger       cat   7.35  Q19939      Q146     tiger                 cat\n",
       "2     tiger     tiger  10.00  Q19939    Q19939     tiger               tiger\n",
       "3      book     paper   7.46    Q571    Q11472      book               paper\n",
       "4  computer  keyboard   7.62     Q68  Q1921606  computer            keyboard"
      ]
     },
     "execution_count": 3,
     "metadata": {},
     "output_type": "execute_result"
    }
   ],
   "source": [
    "wordsim.head()"
   ]
  },
  {
   "cell_type": "code",
   "execution_count": 4,
   "metadata": {
    "collapsed": false
   },
   "outputs": [],
   "source": [
    "model = Model.load()"
   ]
  },
  {
   "cell_type": "code",
   "execution_count": 5,
   "metadata": {
    "collapsed": false
   },
   "outputs": [
    {
     "data": {
      "text/plain": [
       "278"
      ]
     },
     "execution_count": 5,
     "metadata": {},
     "output_type": "execute_result"
    }
   ],
   "source": [
    "# Number of words in vocabulary\n",
    "len([q for q in set(wordsim.q1).union(wordsim.q2) if q in model])"
   ]
  },
  {
   "cell_type": "code",
   "execution_count": 6,
   "metadata": {
    "collapsed": false
   },
   "outputs": [
    {
     "data": {
      "text/plain": [
       "0.82798253952951129"
      ]
     },
     "execution_count": 6,
     "metadata": {},
     "output_type": "execute_result"
    }
   ],
   "source": [
    "# Example similarity\n",
    "model.similarity('Q19939', 'Q146')"
   ]
  },
  {
   "cell_type": "code",
   "execution_count": 7,
   "metadata": {
    "collapsed": false
   },
   "outputs": [],
   "source": [
    "similarities = []\n",
    "for n, (word1, word2, human, q1, q2, *rest) in wordsim.iterrows():\n",
    "    try:\n",
    "        similarity = model.similarity(q1, q2)\n",
    "    except:\n",
    "        similarity = nan\n",
    "    similarities.append(similarity)"
   ]
  },
  {
   "cell_type": "code",
   "execution_count": 8,
   "metadata": {
    "collapsed": true
   },
   "outputs": [],
   "source": [
    "wordsim['similarity'] = similarities"
   ]
  },
  {
   "cell_type": "code",
   "execution_count": 9,
   "metadata": {
    "collapsed": false
   },
   "outputs": [
    {
     "data": {
      "text/html": [
       "<div>\n",
       "<table border=\"1\" class=\"dataframe\">\n",
       "  <thead>\n",
       "    <tr style=\"text-align: right;\">\n",
       "      <th></th>\n",
       "      <th>word1</th>\n",
       "      <th>word2</th>\n",
       "      <th>human</th>\n",
       "      <th>q1</th>\n",
       "      <th>q2</th>\n",
       "      <th>label1</th>\n",
       "      <th>label2</th>\n",
       "      <th>similarity</th>\n",
       "    </tr>\n",
       "  </thead>\n",
       "  <tbody>\n",
       "    <tr>\n",
       "      <th>0</th>\n",
       "      <td>love</td>\n",
       "      <td>sex</td>\n",
       "      <td>6.77</td>\n",
       "      <td>Q316</td>\n",
       "      <td>Q5873</td>\n",
       "      <td>love</td>\n",
       "      <td>sexual intercourse</td>\n",
       "      <td>0.904173</td>\n",
       "    </tr>\n",
       "    <tr>\n",
       "      <th>1</th>\n",
       "      <td>tiger</td>\n",
       "      <td>cat</td>\n",
       "      <td>7.35</td>\n",
       "      <td>Q19939</td>\n",
       "      <td>Q146</td>\n",
       "      <td>tiger</td>\n",
       "      <td>cat</td>\n",
       "      <td>0.827983</td>\n",
       "    </tr>\n",
       "    <tr>\n",
       "      <th>2</th>\n",
       "      <td>tiger</td>\n",
       "      <td>tiger</td>\n",
       "      <td>10.00</td>\n",
       "      <td>Q19939</td>\n",
       "      <td>Q19939</td>\n",
       "      <td>tiger</td>\n",
       "      <td>tiger</td>\n",
       "      <td>1.000000</td>\n",
       "    </tr>\n",
       "    <tr>\n",
       "      <th>3</th>\n",
       "      <td>book</td>\n",
       "      <td>paper</td>\n",
       "      <td>7.46</td>\n",
       "      <td>Q571</td>\n",
       "      <td>Q11472</td>\n",
       "      <td>book</td>\n",
       "      <td>paper</td>\n",
       "      <td>0.544965</td>\n",
       "    </tr>\n",
       "    <tr>\n",
       "      <th>4</th>\n",
       "      <td>computer</td>\n",
       "      <td>keyboard</td>\n",
       "      <td>7.62</td>\n",
       "      <td>Q68</td>\n",
       "      <td>Q1921606</td>\n",
       "      <td>computer</td>\n",
       "      <td>keyboard</td>\n",
       "      <td>0.709703</td>\n",
       "    </tr>\n",
       "  </tbody>\n",
       "</table>\n",
       "</div>"
      ],
      "text/plain": [
       "      word1     word2  human      q1        q2    label1              label2  \\\n",
       "0      love       sex   6.77    Q316     Q5873      love  sexual intercourse   \n",
       "1     tiger       cat   7.35  Q19939      Q146     tiger                 cat   \n",
       "2     tiger     tiger  10.00  Q19939    Q19939     tiger               tiger   \n",
       "3      book     paper   7.46    Q571    Q11472      book               paper   \n",
       "4  computer  keyboard   7.62     Q68  Q1921606  computer            keyboard   \n",
       "\n",
       "   similarity  \n",
       "0    0.904173  \n",
       "1    0.827983  \n",
       "2    1.000000  \n",
       "3    0.544965  \n",
       "4    0.709703  "
      ]
     },
     "execution_count": 9,
     "metadata": {},
     "output_type": "execute_result"
    }
   ],
   "source": [
    "wordsim.head()"
   ]
  },
  {
   "cell_type": "code",
   "execution_count": 10,
   "metadata": {
    "collapsed": false
   },
   "outputs": [
    {
     "data": {
      "image/png": "[encoded data removed]",
      "text/plain": [
       "<matplotlib.figure.Figure at 0x7fddad427908>"
      ]
     },
     "metadata": {},
     "output_type": "display_data"
    }
   ],
   "source": [
    "wordsim.plot('human', 'similarity', kind='scatter')\n",
    "show()"
   ]
  },
  {
   "cell_type": "code",
   "execution_count": 11,
   "metadata": {
    "collapsed": false
   },
   "outputs": [],
   "source": [
    "X = wordsim.dropna(how='any')[['human', 'similarity']]"
   ]
  },
  {
   "cell_type": "code",
   "execution_count": 12,
   "metadata": {
    "collapsed": false
   },
   "outputs": [
    {
     "data": {
      "text/plain": [
       "array([[ 1.        ,  0.13435105],\n",
       "       [ 0.13435105,  1.        ]])"
      ]
     },
     "execution_count": 12,
     "metadata": {},
     "output_type": "execute_result"
    }
   ],
   "source": [
    "corrcoef(X.T)"
   ]
  },
  {
   "cell_type": "code",
   "execution_count": 13,
   "metadata": {
    "collapsed": false
   },
   "outputs": [
    {
     "data": {
      "text/plain": [
       "SpearmanrResult(correlation=0.13462514197041839, pvalue=0.062642053818111526)"
      ]
     },
     "execution_count": 13,
     "metadata": {},
     "output_type": "execute_result"
    }
   ],
   "source": [
    "spearmanr(X.human, X.similarity)"
   ]
  },
  {
   "cell_type": "code",
   "execution_count": null,
   "metadata": {
    "collapsed": true
   },
   "outputs": [],
   "source": []
  }
 ],
 "metadata": {
  "kernelspec": {
   "display_name": "Python 3",
   "language": "python",
   "name": "python3"
  },
  "language_info": {
   "codemirror_mode": {
    "name": "ipython",
    "version": 3
   },
   "file_extension": ".py",
   "mimetype": "text/x-python",
   "name": "python",
   "nbconvert_exporter": "python",
   "pygments_lexer": "ipython3",
   "version": "3.5.2"
  }
 },
 "nbformat": 4,
 "nbformat_minor": 2
}
